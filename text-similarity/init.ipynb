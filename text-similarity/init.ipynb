{
 "cells": [
  {
   "cell_type": "code",
   "execution_count": 44,
   "metadata": {},
   "outputs": [],
   "source": [
    "from sklearn.feature_extraction.text import TfidfVectorizer\n",
    "from sklearn.metrics.pairwise import cosine_similarity"
   ]
  },
  {
   "cell_type": "code",
   "execution_count": 45,
   "metadata": {},
   "outputs": [],
   "source": [
    "ai_qna = {\n",
    "    \"What does AI stand for?\":\n",
    "        \"AI stands for Artificial Intelligence. It refers to the simulation of human intelligence in machines, enabling them to perform tasks that typically require human cognition, such as learning from experience, problem-solving, and decision-making.\",\n",
    "    \n",
    "    \"What is the primary goal of AI?\":\n",
    "        \"The primary goal of AI is to develop systems and machines that can mimic human intelligence and behavior. These systems are designed to process information, learn from it, adapt to different situations, and perform tasks with a level of autonomy.\",\n",
    "    \n",
    "    \"What is machine learning?\":\n",
    "        \"Machine learning is a subset of AI that involves the development of algorithms and models that allow computers to improve their performance on a task through experience. Instead of being explicitly programmed, these algorithms learn patterns and insights from data.\",\n",
    "    \n",
    "    \"What is a neural network?\":\n",
    "        \"A neural network is a computational model inspired by the structure of the human brain. It consists of interconnected nodes, or 'neurons,' organized in layers. Neural networks are used in machine learning to recognize patterns, make predictions, and solve complex problems like image and speech recognition.\",\n",
    "    \n",
    "    \"What is the difference between narrow or weak AI and general AI?\":\n",
    "        \"Narrow or weak AI refers to AI systems that are specialized and proficient in performing specific tasks. Examples include voice assistants and recommendation systems. General AI, on the other hand, represents machines with human-like intelligence, capable of understanding, learning, and performing any intellectual task that a human can do.\",\n",
    "    \n",
    "    \"What is natural language processing (NLP)?\":\n",
    "        \"Natural Language Processing (NLP) is a branch of AI that focuses on enabling computers to understand, interpret, and generate human language. NLP algorithms help machines comprehend text and speech, enabling applications like language translation, sentiment analysis, and chatbots.\",\n",
    "    \n",
    "    \"What is a chatbot?\":\n",
    "        \"A chatbot is a software application that uses NLP and AI techniques to simulate conversation with users. It can interact through text or speech and is often used for customer service, information retrieval, and task automation.\",\n",
    "    \n",
    "    \"What is computer vision?\":\n",
    "        \"Computer vision is an AI field that enables computers to interpret visual information from the world. It involves tasks such as image recognition, object detection, and facial recognition, allowing machines to understand and analyze visual data.\",\n",
    "    \n",
    "    \"What is reinforcement learning?\":\n",
    "        \"Reinforcement learning is a type of machine learning where an agent learns to make decisions by interacting with an environment. Through trial and error, the agent receives feedback in the form of rewards or penalties, allowing it to learn optimal strategies for different situations.\",\n",
    "    \n",
    "    \"What are some ethical concerns related to AI?\":\n",
    "        \"Ethical concerns in AI include issues like algorithmic bias, where AI systems discriminate unfairly based on factors like race or gender; job displacement due to automation; data privacy and security concerns; and the potential for AI to be misused in areas like surveillance or autonomous weapons. Addressing these concerns is crucial for responsible AI development and deployment.\"\n",
    "}\n"
   ]
  },
  {
   "cell_type": "code",
   "execution_count": 46,
   "metadata": {},
   "outputs": [],
   "source": [
    "student = {\n",
    "    \"What does AI stand for?\":\n",
    "        \"AI stands for Artificial Intelligence. It refers to the simulation of human-like intelligence in machines, enabling them to perform tasks that typically require human cognition, such as learning from experience, problem-solving, and decision-making.\",\n",
    "    \n",
    "    \"What is the primary goal of AI?\":\n",
    "        \"The primary goal of AI is to create machines and systems that can replicate human intelligence and behavior. These systems are designed to process information, learn from it, adapt to different scenarios, and execute tasks with a certain level of autonomy.\",\n",
    "    \n",
    "    \"What is machine learning?\":\n",
    "        \"Machine learning is a subset of AI that involves the development of algorithms and models enabling computers to enhance their performance on a task through experiences. Instead of being explicitly programmed, these algorithms learn patterns and insights from data.\",\n",
    "    \n",
    "    \"What is a neural network?\":\n",
    "        \"A neural network is a computational model inspired by the structure of the human brain. It consists of interconnected nodes, often referred to as 'neurons,' organized in layers. Neural networks are utilized in machine learning to identify patterns, make predictions, and solve intricate problems such as image and speech recognition.\",\n",
    "    \n",
    "    \"What is the difference between narrow or weak AI and general AI?\":\n",
    "        \"Narrow or weak AI pertains to AI systems that specialize in performing distinct tasks effectively. Examples encompass voice assistants and recommendation engines. Conversely, general AI signifies machines possessing human-like intelligence, capable of comprehending, learning, and executing any intellectual task that a human can.\",\n",
    "    \n",
    "    \"What is natural language processing (NLP)?\":\n",
    "        \"Natural Language Processing (NLP) constitutes a branch of AI that concentrates on empowering computers to understand, interpret, and generate human language. NLP algorithms facilitate machines in comprehending text and speech, enabling applications like language translation, sentiment analysis, and chatbots.\",\n",
    "    \n",
    "    \"What is a chatbot?\":\n",
    "        \"A chatbot is a software application employing NLP and AI techniques to emulate conversation with users. It can engage in text or speech-based interaction and is frequently employed for tasks such as customer service, information retrieval, and process automation.\",\n",
    "    \n",
    "    \"What is computer vision?\":\n",
    "        \"Computer vision is an AI domain that equips computers to comprehend visual information from the environment. It encompasses tasks like image recognition, object detection, and facial recognition, empowering machines to interpret and analyze visual data.\",\n",
    "    \n",
    "    \"What is reinforcement learning?\":\n",
    "        \"Reinforcement learning represents a category of machine learning wherein an agent learns decision-making through interactions with its surroundings. By receiving feedback in the form of rewards or penalties, the agent refines its strategies over time, determining optimal approaches for varying situations.\",\n",
    "    \n",
    "    \"What are some ethical concerns related to AI?\":\n",
    "        \"Ethical concerns in AI encompass issues like algorithmic bias, where AI systems unfairly discriminate based on factors like race or gender; job displacement due to automation; data privacy and security vulnerabilities; and the potential misuse of AI in domains such as surveillance or autonomous weaponry. Addressing these apprehensions is pivotal for the responsible development and deployment of AI.\"\n",
    "}\n"
   ]
  },
  {
   "cell_type": "code",
   "execution_count": 47,
   "metadata": {},
   "outputs": [
    {
     "name": "stdout",
     "output_type": "stream",
     "text": [
      "similarity score: 97.67474976571671\n",
      "similarity score: 85.16913154627481\n",
      "similarity score: 87.54162839798788\n",
      "similarity score: 76.92675505035844\n",
      "similarity score: 65.12237364660017\n",
      "similarity score: 81.91765123301926\n",
      "similarity score: 63.423433855374\n",
      "similarity score: 70.85862070583705\n",
      "similarity score: 47.88727153830698\n",
      "similarity score: 77.18544502806334\n"
     ]
    }
   ],
   "source": [
    "def calculate_similarity(text1, text2):\n",
    "    vectorizer = TfidfVectorizer()\n",
    "    tfidf_matrix = vectorizer.fit_transform([text1, text2])\n",
    "    similarity_score = cosine_similarity(tfidf_matrix[0], tfidf_matrix[1])\n",
    "\n",
    "    return similarity_score[0][0]\n",
    "\n",
    "total_score = 0\n",
    "\n",
    "for i in student:\n",
    "        similarity_score = calculate_similarity(student[i], ai_qna[i])\n",
    "        print(\"similarity score:\", similarity_score*100)\n",
    "        total_score+=(similarity_score*100)\n"
   ]
  },
  {
   "cell_type": "code",
   "execution_count": 48,
   "metadata": {},
   "outputs": [
    {
     "name": "stdout",
     "output_type": "stream",
     "text": [
      "final score  75.37070607675388\n"
     ]
    }
   ],
   "source": [
    "print(\"final score \" , float(total_score/10))"
   ]
  }
 ],
 "metadata": {
  "kernelspec": {
   "display_name": "Python 3",
   "language": "python",
   "name": "python3"
  },
  "language_info": {
   "codemirror_mode": {
    "name": "ipython",
    "version": 3
   },
   "file_extension": ".py",
   "mimetype": "text/x-python",
   "name": "python",
   "nbconvert_exporter": "python",
   "pygments_lexer": "ipython3",
   "version": "3.10.11"
  },
  "orig_nbformat": 4
 },
 "nbformat": 4,
 "nbformat_minor": 2
}
